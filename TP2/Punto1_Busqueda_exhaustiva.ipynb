{
 "cells": [
  {
   "cell_type": "code",
   "execution_count": 1,
   "metadata": {},
   "outputs": [
    {
     "ename": "TypeError",
     "evalue": "can only concatenate str (not \"int\") to str",
     "output_type": "error",
     "traceback": [
      "\u001b[1;31m---------------------------------------------------------------------------\u001b[0m",
      "\u001b[1;31mTypeError\u001b[0m                                 Traceback (most recent call last)",
      "Cell \u001b[1;32mIn[1], line 40\u001b[0m\n\u001b[0;32m     36\u001b[0m     \u001b[39mprint\u001b[39m(\u001b[39m\"\u001b[39m\u001b[39mMejor ruta encontrada:\u001b[39m\u001b[39m\"\u001b[39m, mejor_ruta)\n\u001b[0;32m     39\u001b[0m \u001b[39m# Llamar a la función principal\u001b[39;00m\n\u001b[1;32m---> 40\u001b[0m buscar_nueva_ubicacion()\n",
      "Cell \u001b[1;32mIn[1], line 33\u001b[0m, in \u001b[0;36mbuscar_nueva_ubicacion\u001b[1;34m()\u001b[0m\n\u001b[0;32m     30\u001b[0m ruta_actual \u001b[39m=\u001b[39m []  \u001b[39m# Lista para almacenar la ruta actual\u001b[39;00m\n\u001b[0;32m     31\u001b[0m mejor_ruta \u001b[39m=\u001b[39m []  \u001b[39m# Lista para almacenar la mejor ruta encontrada\u001b[39;00m\n\u001b[1;32m---> 33\u001b[0m busqueda_exhaustiva_primero_profundidad(posicion_inicial, \u001b[39m0\u001b[39;49m, ruta_actual, mejor_ruta, profundidad_maxima)\n\u001b[0;32m     35\u001b[0m \u001b[39m# Imprimir la mejor ruta encontrada\u001b[39;00m\n\u001b[0;32m     36\u001b[0m \u001b[39mprint\u001b[39m(\u001b[39m\"\u001b[39m\u001b[39mMejor ruta encontrada:\u001b[39m\u001b[39m\"\u001b[39m, mejor_ruta)\n",
      "Cell \u001b[1;32mIn[1], line 16\u001b[0m, in \u001b[0;36mbusqueda_exhaustiva_primero_profundidad\u001b[1;34m(posicion_actual, profundidad_actual, ruta_actual, mejor_ruta, profundidad_maxima)\u001b[0m\n\u001b[0;32m     14\u001b[0m \u001b[39m# Realizar la búsqueda exhaustiva primero en profundidad\u001b[39;00m\n\u001b[0;32m     15\u001b[0m \u001b[39mfor\u001b[39;00m movimiento \u001b[39min\u001b[39;00m movimientos:\n\u001b[1;32m---> 16\u001b[0m     nueva_posicion \u001b[39m=\u001b[39m posicion_actual \u001b[39m+\u001b[39;49m movimiento\n\u001b[0;32m     17\u001b[0m     ruta_actual\u001b[39m.\u001b[39mappend(movimiento)\n\u001b[0;32m     19\u001b[0m     \u001b[39m# Llamada recursiva con la nueva posición y profundidad incrementada\u001b[39;00m\n",
      "\u001b[1;31mTypeError\u001b[0m: can only concatenate str (not \"int\") to str"
     ]
    }
   ],
   "source": [
    "def busqueda_exhaustiva_primero_profundidad(posicion_actual, profundidad_actual, ruta_actual, mejor_ruta, profundidad_maxima):\n",
    "    # Verificar si la posición actual es la nueva ubicación \"A\"\n",
    "    if posicion_actual == \"A\":\n",
    "        mejor_ruta.extend(ruta_actual)  # Actualizar la mejor ruta\n",
    "        return\n",
    "    \n",
    "    # Verificar si se alcanzó la profundidad máxima\n",
    "    if profundidad_actual > profundidad_maxima:\n",
    "        return\n",
    "    \n",
    "    # Movimientos exploratorios posibles\n",
    "    movimientos = [1, -1]  # Movimiento hacia la derecha o hacia la izquierda\n",
    "    \n",
    "    # Realizar la búsqueda exhaustiva primero en profundidad\n",
    "    for movimiento in movimientos:\n",
    "        nueva_posicion = posicion_actual + movimiento\n",
    "        ruta_actual.append(movimiento)\n",
    "        \n",
    "        # Llamada recursiva con la nueva posición y profundidad incrementada\n",
    "        busqueda_exhaustiva_primero_profundidad(nueva_posicion, profundidad_actual + 1, ruta_actual, mejor_ruta, profundidad_maxima)\n",
    "        \n",
    "        ruta_actual.pop()  # Backtracking (eliminar el último movimiento de la ruta actual)\n",
    "\n",
    "\n",
    "# Función principal\n",
    "def buscar_nueva_ubicacion():\n",
    "    posicion_inicial = \"B\"\n",
    "    profundidad_maxima = 6  # Profundidad máxima deseada\n",
    "    \n",
    "    ruta_actual = []  # Lista para almacenar la ruta actual\n",
    "    mejor_ruta = []  # Lista para almacenar la mejor ruta encontrada\n",
    "    \n",
    "    busqueda_exhaustiva_primero_profundidad(posicion_inicial, 0, ruta_actual, mejor_ruta, profundidad_maxima)\n",
    "    \n",
    "    # Imprimir la mejor ruta encontrada\n",
    "    print(\"Mejor ruta encontrada:\", mejor_ruta)\n",
    "\n",
    "\n",
    "# Llamar a la función principal\n",
    "buscar_nueva_ubicacion()\n"
   ]
  }
 ],
 "metadata": {
  "kernelspec": {
   "display_name": "Python 3",
   "language": "python",
   "name": "python3"
  },
  "language_info": {
   "codemirror_mode": {
    "name": "ipython",
    "version": 3
   },
   "file_extension": ".py",
   "mimetype": "text/x-python",
   "name": "python",
   "nbconvert_exporter": "python",
   "pygments_lexer": "ipython3",
   "version": "3.11.2"
  },
  "orig_nbformat": 4
 },
 "nbformat": 4,
 "nbformat_minor": 2
}
